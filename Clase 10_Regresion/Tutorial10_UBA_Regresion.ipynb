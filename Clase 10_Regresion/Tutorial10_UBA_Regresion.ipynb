{
 "cells": [
  {
   "cell_type": "markdown",
   "metadata": {
    "id": "me1YIgWFU5al"
   },
   "source": [
    "# Big Data y Machine Learning (UBA) 2025\n",
    "## Clase 10 - Regresion lineal\n",
    "\n",
    "**Objetivo:** Correr regresiones lineales. Estimar polinomios y encontrar el ECM.\n",
    "\n",
    "Veremos:\n",
    "- Regresión lineal simple y múltiple\n",
    "- Estadísticas (similares a stata o R) con nuevo módulo \n",
    "- Encontrar el ECM"
   ]
  },
  {
   "cell_type": "code",
   "execution_count": null,
   "metadata": {},
   "outputs": [],
   "source": [
    "# Instalar modulo de statsmodels \n",
    "# !pip install statsmodels"
   ]
  },
  {
   "cell_type": "code",
   "execution_count": null,
   "metadata": {
    "id": "VPdHNiwaU5av"
   },
   "outputs": [],
   "source": [
    "# Importamos paquetes\n",
    "import numpy as np\n",
    "import pandas as pd\n",
    "import matplotlib.pyplot as plt\n",
    "\n",
    "from sklearn.linear_model import LinearRegression\n",
    "from sklearn.preprocessing import PolynomialFeatures\n",
    "from sklearn.metrics import r2_score, mean_squared_error, mean_absolute_error\n",
    "import statsmodels.api as sm"
   ]
  },
  {
   "cell_type": "markdown",
   "metadata": {},
   "source": [
    "## Regresión Simple\n",
    "Sea el modelo de regresión simple con un predictores ($p=1$):\n",
    "$$\n",
    "y_i = \\beta_0 + \\beta_1 \\times x_{1i}  + \\epsilon\n",
    "$$\n",
    "donde $\\epsilon$ es el error no sistemático del modelo."
   ]
  },
  {
   "cell_type": "code",
   "execution_count": null,
   "metadata": {},
   "outputs": [],
   "source": [
    "# Creamos unos datos de ejemplo\n",
    "x = np.array([5, 15, 25, 35, 45, 55]) # Predictor\n",
    "y = np.array([5, 20, 14, 32, 22, 38]) # Variable de interés a predecir\n",
    "\n",
    "print(x)\n",
    "print(y)\n",
    "# Ambos son vectores fila"
   ]
  },
  {
   "cell_type": "code",
   "execution_count": null,
   "metadata": {},
   "outputs": [],
   "source": [
    "# Repasamos el Reshape para transformar x en un vector columna\n",
    "x = x.reshape((-1, 1))   # El -1 indica el largo del array\n",
    "# Es equivalente a: x = x.reshape((6, 1))\n",
    "\n",
    "print(x)\n",
    "print(y)"
   ]
  },
  {
   "cell_type": "markdown",
   "metadata": {
    "id": "tltC2LKSU5aw"
   },
   "source": [
    "#### Regresión lineal con skit-learn\n",
    "Ahora utilizaremos la función [LinearRegression()](https://scikit-learn.org/stable/modules/generated/sklearn.linear_model.LinearRegression.html) del paquete scikit-learn.\n",
    "    \n",
    "Se pueden proveer muchos parámetros opcionales para esta función:\n",
    "\n",
    "- **fit_intercept**: Booleano que decide si calcular el intercepto (True) o considerarlo igual a cero (False) ($\\beta_0$). Por default es True.\n",
    "- **normalize**: Booleano que decide si normalizar las variables input (True) o no (False). Es False por default.\n",
    "- **copy_X**: Booleano que decide si copiar (True) o sobreescribir las variables input (False). Es True por default."
   ]
  },
  {
   "cell_type": "code",
   "execution_count": null,
   "metadata": {
    "id": "6bjQFS8IU5aw"
   },
   "outputs": [],
   "source": [
    "# Primero, estimar el modelo. Lo hacemos con fit():\n",
    "model = LinearRegression().fit(x, y)"
   ]
  },
  {
   "cell_type": "code",
   "execution_count": null,
   "metadata": {
    "colab": {
     "base_uri": "https://localhost:8080/"
    },
    "executionInfo": {
     "elapsed": 10,
     "status": "ok",
     "timestamp": 1712541650990,
     "user": {
      "displayName": "Victoria Oubina de Castro",
      "userId": "00295192582253170882"
     },
     "user_tz": 180
    },
    "id": "S2uo_mwHU5ax",
    "outputId": "67b7f4ae-5857-4552-8a2e-9d0a0ef19500"
   },
   "outputs": [],
   "source": [
    "# Veamos ahora los resultados por MCO\n",
    "\n",
    "# El intercepto\n",
    "intercepto = model.intercept_\n",
    "print('\\nIntercepto:', intercepto)\n",
    "\n",
    "# La pendiente\n",
    "pendiente = model.coef_\n",
    "print('\\nPendiente:', pendiente)\n"
   ]
  },
  {
   "cell_type": "code",
   "execution_count": null,
   "metadata": {
    "colab": {
     "base_uri": "https://localhost:8080/",
     "height": 447
    },
    "executionInfo": {
     "elapsed": 851,
     "status": "ok",
     "timestamp": 1712541654428,
     "user": {
      "displayName": "Victoria Oubina de Castro",
      "userId": "00295192582253170882"
     },
     "user_tz": 180
    },
    "id": "juWyTKCWU5ax",
    "outputId": "ca456d6a-ae04-434f-b91b-59513d469888"
   },
   "outputs": [],
   "source": [
    "# Hacemos un scatter plot\n",
    "plt.plot(x, y, 'o')\n",
    "plt.plot(x, pendiente*x + intercepto)\n"
   ]
  },
  {
   "cell_type": "markdown",
   "metadata": {},
   "source": [
    "Supongamos que ahora queremos predecir con este modelo $\\hat{Y}$. Para ellos, usamos la funcion de `.predict()`y los valores del regresor en el modelo estimado y obtenemos la correspondiente respuesta predicha $\\hat{Y}$."
   ]
  },
  {
   "cell_type": "code",
   "execution_count": null,
   "metadata": {
    "colab": {
     "base_uri": "https://localhost:8080/"
    },
    "executionInfo": {
     "elapsed": 542,
     "status": "ok",
     "timestamp": 1712541657404,
     "user": {
      "displayName": "Victoria Oubina de Castro",
      "userId": "00295192582253170882"
     },
     "user_tz": 180
    },
    "id": "UPErt-qrU5ax",
    "outputId": "79ef6c9a-f072-4728-a3c3-39b30bb8063b"
   },
   "outputs": [],
   "source": [
    "# Predicción Y_hat\n",
    "y_pred = model.predict(x)\n",
    "print('Respuesta predicha:\\n', y_pred)\n",
    "\n",
    "# Recordemos cómo era nuestro vector y\n",
    "print('\\nEl vector de y:', y)\n",
    "\n",
    "# Recordemos cómo era nuestro vector x\n",
    "print('\\nEl vector de x:', x)"
   ]
  },
  {
   "cell_type": "markdown",
   "metadata": {},
   "source": [
    "### Precisión del modelo\n",
    "Recordamos que definimos el $R^2$ como:\n",
    "$$\n",
    "R^2 = \\frac{TSS-RSS}{TSS} = 1- \\frac{RSS}{TSS}\n",
    "$$\n",
    "donde $TSS= \\Sigma (y_i - \\bar{y} )^2$ y $RSS=\\Sigma (y_i - \\hat{y} )^2$"
   ]
  },
  {
   "cell_type": "code",
   "execution_count": null,
   "metadata": {},
   "outputs": [],
   "source": [
    "# Calculamos el R2 (Alternativa 1)\n",
    "r2 = model.score(x, y)\n",
    "print('Coeficiente de determinación:', r2)\n",
    "\n",
    "# Con la y predicha podemos calcular el R^2 de esta otra forma (Alternativa 2)\n",
    "r2_new = r2_score(y, y_pred)\n",
    "print(\"\\nResultado alternativo para R2:\", r2_new)"
   ]
  },
  {
   "cell_type": "markdown",
   "metadata": {},
   "source": [
    "#### Predicción Afuera de la Muestra\n",
    "Supongamos tenemos nuevos datos y queremos ver qué tan buenos somos para predecir con los nuevos datos"
   ]
  },
  {
   "cell_type": "code",
   "execution_count": null,
   "metadata": {
    "colab": {
     "base_uri": "https://localhost:8080/"
    },
    "executionInfo": {
     "elapsed": 3,
     "status": "ok",
     "timestamp": 1712541659113,
     "user": {
      "displayName": "Victoria Oubina de Castro",
      "userId": "00295192582253170882"
     },
     "user_tz": 180
    },
    "id": "6KN8vgbGU5ax",
    "outputId": "70b8c1bf-b389-4eae-9a2f-c975464e30c1"
   },
   "outputs": [],
   "source": [
    "# Si quiero probar valores nuevos de x (no los que usé para estimar el modelo):\n",
    "x_new = np.arange(start=10, stop=20, step=2).reshape((-1, 1))   # Generamos valores entre [10, 20), con saltos de 2 en 2\n",
    "print(x_new)\n",
    "\n",
    "y_pred_new = model.predict(x_new)\n",
    "print('\\nNueva respuesta predicha:\\n', y_pred_new)"
   ]
  },
  {
   "cell_type": "markdown",
   "metadata": {},
   "source": [
    "## Regresión Multiple\n",
    "Sea el modelo de regresión múltiple con dos predictores ($p=2$):\n",
    "$$\n",
    "y_i = \\beta_0 + \\beta_1 \\times x_{1i} + + \\beta_2 \\times x_{2i} + \\epsilon\n",
    "$$"
   ]
  },
  {
   "cell_type": "code",
   "execution_count": null,
   "metadata": {
    "colab": {
     "base_uri": "https://localhost:8080/"
    },
    "executionInfo": {
     "elapsed": 6,
     "status": "ok",
     "timestamp": 1712541660206,
     "user": {
      "displayName": "Victoria Oubina de Castro",
      "userId": "00295192582253170882"
     },
     "user_tz": 180
    },
    "id": "YqydnsUDU5ax",
    "outputId": "a7296ed8-5882-4645-abc7-29716f891cd3"
   },
   "outputs": [],
   "source": [
    "# Armamos un vector para la variable dependiente y una matriz de regresores:\n",
    "x = np.array([[0, 1], [5, 1], [15, 2], [25, 5], [35, 11], [45, 15], [55, 34], [60, 35]])\n",
    "\n",
    "y =  np.array([4, 5, 20, 14, 32, 22, 38, 43])\n",
    "\n",
    "print(x)\n",
    "print(y)\n"
   ]
  },
  {
   "cell_type": "code",
   "execution_count": null,
   "metadata": {
    "colab": {
     "base_uri": "https://localhost:8080/"
    },
    "executionInfo": {
     "elapsed": 304,
     "status": "ok",
     "timestamp": 1712541662347,
     "user": {
      "displayName": "Victoria Oubina de Castro",
      "userId": "00295192582253170882"
     },
     "user_tz": 180
    },
    "id": "xNXJ4AIjU5ay",
    "outputId": "66c7dd5e-a894-4606-e83e-434d0d84ef27"
   },
   "outputs": [],
   "source": [
    "# Estimamos el modelo\n",
    "model = LinearRegression().fit(x, y)\n",
    "r2 = model.score(x, y)\n",
    "\n",
    "# Miramos resultados\n",
    "print('Coeficiente de determinación:', r2)\n",
    "print('\\nIntercepto:', model.intercept_)\n",
    "print('\\nCoeficientes:', model.coef_)"
   ]
  },
  {
   "cell_type": "code",
   "execution_count": null,
   "metadata": {
    "colab": {
     "base_uri": "https://localhost:8080/"
    },
    "executionInfo": {
     "elapsed": 313,
     "status": "ok",
     "timestamp": 1712541664476,
     "user": {
      "displayName": "Victoria Oubina de Castro",
      "userId": "00295192582253170882"
     },
     "user_tz": 180
    },
    "id": "Cq33dWZbU5ay",
    "outputId": "0e308105-7332-428c-ae2b-19a99e482dce"
   },
   "outputs": [],
   "source": [
    "# Vemos la respuesta predicha para los valores originales de los regresores\n",
    "y_pred = model.predict(x)\n",
    "print('Respuesta predicha:', y_pred, sep='\\n')"
   ]
  },
  {
   "cell_type": "code",
   "execution_count": null,
   "metadata": {
    "colab": {
     "base_uri": "https://localhost:8080/"
    },
    "executionInfo": {
     "elapsed": 290,
     "status": "ok",
     "timestamp": 1712541666736,
     "user": {
      "displayName": "Victoria Oubina de Castro",
      "userId": "00295192582253170882"
     },
     "user_tz": 180
    },
    "id": "LX15tvVIU5ay",
    "outputId": "29670182-ac5d-4028-91b1-e74c37110235"
   },
   "outputs": [],
   "source": [
    "# Vemos la predicción para nuevos valores de X\n",
    "x_new = np.arange(start=1, stop=31, step=3).reshape((-1, 2))   # Matriz con 2 columnas y tantas filas como tenga el array\n",
    "print(x_new)\n",
    "y_new = model.predict(x_new)\n",
    "print('Nueva respuesta predicha:', y_new, sep='\\n')"
   ]
  },
  {
   "cell_type": "markdown",
   "metadata": {
    "id": "fegD4QXNU5az"
   },
   "source": [
    "### Imitando a Stata con statsmodels"
   ]
  },
  {
   "cell_type": "markdown",
   "metadata": {
    "id": "48z3rKgdU5az"
   },
   "source": [
    "[statsmodels](https://www.statsmodels.org/stable/index.html) proporciona clases y funciones para la estimación de modelos estadísticos, para realizar pruebas estadísticas y para explorar datos estadísticos."
   ]
  },
  {
   "cell_type": "code",
   "execution_count": null,
   "metadata": {
    "colab": {
     "base_uri": "https://localhost:8080/"
    },
    "executionInfo": {
     "elapsed": 312,
     "status": "ok",
     "timestamp": 1712541678306,
     "user": {
      "displayName": "Victoria Oubina de Castro",
      "userId": "00295192582253170882"
     },
     "user_tz": 180
    },
    "id": "MPR7EMCKU5az",
    "outputId": "6c1316d4-4361-4e16-f93c-c4b14d203a3f"
   },
   "outputs": [],
   "source": [
    "x = [[0, 1], [5, 1], [15, 2], [25, 5], [35, 11], [45, 15], [55, 34], [60, 35]]\n",
    "y = [4, 5, 20, 14, 32, 22, 38, 43]\n",
    "x, y = np.array(x), np.array(y)\n",
    "\n",
    "x = sm.add_constant(x)\n",
    "print(x)\n",
    "print(y)"
   ]
  },
  {
   "cell_type": "code",
   "execution_count": null,
   "metadata": {
    "colab": {
     "base_uri": "https://localhost:8080/"
    },
    "executionInfo": {
     "elapsed": 305,
     "status": "ok",
     "timestamp": 1712541680028,
     "user": {
      "displayName": "Victoria Oubina de Castro",
      "userId": "00295192582253170882"
     },
     "user_tz": 180
    },
    "id": "BKmWhGgqU5az",
    "outputId": "1cdec443-6aa9-4b00-afc6-6e6fcc13772b"
   },
   "outputs": [],
   "source": [
    "# Especificamos el modelo\n",
    "model = sm.OLS(y, x)\n",
    "# Ajustamos el modelo\n",
    "results = model.fit()\n",
    "\n",
    "print(results.summary())"
   ]
  },
  {
   "cell_type": "code",
   "execution_count": null,
   "metadata": {
    "colab": {
     "base_uri": "https://localhost:8080/"
    },
    "executionInfo": {
     "elapsed": 4,
     "status": "ok",
     "timestamp": 1712541681729,
     "user": {
      "displayName": "Victoria Oubina de Castro",
      "userId": "00295192582253170882"
     },
     "user_tz": 180
    },
    "id": "CfKxqednbu5R",
    "outputId": "f9855660-2598-47c9-b7ce-7cb372732a09"
   },
   "outputs": [],
   "source": [
    "# Si solo queremos ver los coeficientes\n",
    "print(results.params)"
   ]
  },
  {
   "cell_type": "code",
   "execution_count": null,
   "metadata": {},
   "outputs": [],
   "source": [
    "# También lo podemos imprimir los resultados para un excel\n",
    "print(results.summary().as_csv())"
   ]
  },
  {
   "cell_type": "markdown",
   "metadata": {},
   "source": [
    "Se puede obtener la respuesta predicha con los valores de x para estimar el modelo con `.predict()` o `.fittedvalues`:"
   ]
  },
  {
   "cell_type": "code",
   "execution_count": null,
   "metadata": {},
   "outputs": [],
   "source": [
    "print('predicted response:\\n', results.predict(x)) "
   ]
  },
  {
   "cell_type": "code",
   "execution_count": null,
   "metadata": {
    "colab": {
     "base_uri": "https://localhost:8080/"
    },
    "executionInfo": {
     "elapsed": 4,
     "status": "ok",
     "timestamp": 1712541686378,
     "user": {
      "displayName": "Victoria Oubina de Castro",
      "userId": "00295192582253170882"
     },
     "user_tz": 180
    },
    "id": "syztf8sjU5a0",
    "outputId": "0412d100-7565-4869-8d07-a44f5b97ce9d"
   },
   "outputs": [],
   "source": [
    "print('predicted response:\\n', results.fittedvalues) #equivalente: results.predict(x)"
   ]
  },
  {
   "cell_type": "markdown",
   "metadata": {
    "id": "vKIbeFqyU5a0"
   },
   "source": [
    "##     ERROR CUADRÁTICO MEDIO\n",
    "\n",
    "Ahora veamos algunas métricas de evaluación usuales para los problemas de regresión en Machine Learning.\n",
    "\n",
    "Vamos a observar los valores de las siguientes métricas:\n",
    "\n",
    "**Error Cuadrático Medio / Mean Squared Error**\n",
    "\n",
    "$MSE = \\frac{1}{n} \\sum_{i=1}^{n} (y_i - \\hat{f}(x_i))^2$\n",
    "\n",
    "**Raíz del Error Cuadrático Medio / Root Mean Squared Error**\n",
    "\n",
    "$RMSE = \\sqrt{MSE}$\n",
    "\n",
    "**Error Absoluto Medio / Mean Absolute Error**\n",
    "\n",
    "$MAE = \\frac{1}{n} \\sum_{i=1}^{n} |y_i - \\hat{f}(x_i)|$\n"
   ]
  },
  {
   "cell_type": "code",
   "execution_count": null,
   "metadata": {
    "colab": {
     "base_uri": "https://localhost:8080/"
    },
    "executionInfo": {
     "elapsed": 294,
     "status": "ok",
     "timestamp": 1712541691348,
     "user": {
      "displayName": "Victoria Oubina de Castro",
      "userId": "00295192582253170882"
     },
     "user_tz": 180
    },
    "id": "ufZ3KGrJU5a0",
    "outputId": "5941b29c-446b-463b-e88a-a7c16998ccf7"
   },
   "outputs": [],
   "source": [
    "# Generamos un dataset aleatorio\n",
    "np.random.seed(0)\n",
    "x = np.random.rand(100)  # Array de la forma (100, 1) con nros aleatorios entre [0, 1) de una distribución uniforme\n",
    "epsilon = np.random.normal(0,1,100) # error no sistematico\n",
    "\n",
    "y = 2 + 3*x + epsilon\n",
    "print(\"x:\\n\", x)\n",
    "print(\"y:\\n\", y)\n",
    "print(\"epsilon:\\n\", epsilon)"
   ]
  },
  {
   "cell_type": "code",
   "execution_count": null,
   "metadata": {},
   "outputs": [],
   "source": [
    "print(\"Forma de x:\", x.shape)\n",
    "print(\"Forma de y:\", y.shape)\n",
    "\n",
    "print(\"Dimensiones de x:\", x.ndim)\n",
    "print(\"Dimensiones de y:\", y.ndim)"
   ]
  },
  {
   "cell_type": "code",
   "execution_count": null,
   "metadata": {
    "colab": {
     "base_uri": "https://localhost:8080/",
     "height": 449
    },
    "executionInfo": {
     "elapsed": 329,
     "status": "ok",
     "timestamp": 1712541695731,
     "user": {
      "displayName": "Victoria Oubina de Castro",
      "userId": "00295192582253170882"
     },
     "user_tz": 180
    },
    "id": "8eL-lNIxU5a0",
    "outputId": "e034ab05-1635-4c5b-d788-ab477c5c0627"
   },
   "outputs": [],
   "source": [
    "# Graficamos\n",
    "plt.scatter(x, y, s=10)  # s indica el tamaño de los puntos del scatter.\n",
    "plt.plot(x, 2+3*x, color='red')\n",
    "plt.xlabel('x')\n",
    "plt.ylabel('y')\n",
    "plt.show()"
   ]
  },
  {
   "cell_type": "code",
   "execution_count": null,
   "metadata": {
    "colab": {
     "base_uri": "https://localhost:8080/"
    },
    "executionInfo": {
     "elapsed": 2,
     "status": "ok",
     "timestamp": 1712541696705,
     "user": {
      "displayName": "Victoria Oubina de Castro",
      "userId": "00295192582253170882"
     },
     "user_tz": 180
    },
    "id": "6YEa6Xe8U5a0",
    "outputId": "96444a88-c5df-4125-84a5-94926f90aa0b"
   },
   "outputs": [],
   "source": [
    "x_con = sm.add_constant(x)\n",
    "model = sm.OLS(y, x_con)\n",
    "results = model.fit()\n",
    "print(results.summary())"
   ]
  },
  {
   "cell_type": "code",
   "execution_count": null,
   "metadata": {
    "colab": {
     "base_uri": "https://localhost:8080/"
    },
    "executionInfo": {
     "elapsed": 3,
     "status": "ok",
     "timestamp": 1712541698705,
     "user": {
      "displayName": "Victoria Oubina de Castro",
      "userId": "00295192582253170882"
     },
     "user_tz": 180
    },
    "id": "xx_b83peU5a0",
    "outputId": "c7c225a1-b208-418c-a2f2-029766773690"
   },
   "outputs": [],
   "source": [
    "# Predecimos las y\n",
    "y_pred = results.predict(x_con)\n",
    "y_pred\n",
    "\n",
    "print(\"Forma de y_pred:\", y_pred.shape)\n",
    "print(\"Dimensiones de y:\", y_pred.ndim)"
   ]
  },
  {
   "cell_type": "code",
   "execution_count": null,
   "metadata": {},
   "outputs": [],
   "source": [
    "# Graficamos\n",
    "plt.scatter(x, y, s=10)  # s indica el tamaño de los puntos del scatter.\n",
    "plt.plot(x, 2+3*x, color='red')\n",
    "plt.plot(x, y_pred, color='blue')\n",
    "plt.xlabel('x')\n",
    "plt.ylabel('y')\n",
    "plt.show()"
   ]
  },
  {
   "cell_type": "markdown",
   "metadata": {},
   "source": [
    "### Regresion, Numero de predictores y medidas de bondad de ajuste"
   ]
  },
  {
   "cell_type": "code",
   "execution_count": null,
   "metadata": {},
   "outputs": [],
   "source": [
    "# Creamos un segundo predictor\n",
    "x2 = np.random.normal(5,4,100)  # Array de la forma (100, 1) de una distribución normal con media 5 y desvio estandar 4.\n",
    "X = np.column_stack((x, x2)) # Armamos la matriz con los dos predictores\n",
    "#print(X)"
   ]
  },
  {
   "cell_type": "code",
   "execution_count": null,
   "metadata": {},
   "outputs": [],
   "source": [
    "x_con2 = sm.add_constant(X)\n",
    "model2 = sm.OLS(y, x_con2)\n",
    "results2 = model2.fit()\n",
    "print(results2.summary())\n",
    "# Estima y predicho\n",
    "y_pred2 = results2.predict(x_con2)"
   ]
  },
  {
   "cell_type": "markdown",
   "metadata": {},
   "source": [
    "Ahora armemos un tercer predictor NO relacionado con $Y$, y veamos que pasa.\n"
   ]
  },
  {
   "cell_type": "code",
   "execution_count": null,
   "metadata": {},
   "outputs": [],
   "source": [
    "# Creamos un tercer predictor\n",
    "x3 = np.random.normal(10,2,100)  # Array de la forma (100, 1) de una distribución normal con media 5 y desvio estandar 4.\n",
    "X = np.column_stack((x, x2,x3)) # Armamos la matriz con los dos predictores\n",
    "#print(X)"
   ]
  },
  {
   "cell_type": "code",
   "execution_count": null,
   "metadata": {},
   "outputs": [],
   "source": [
    "x_con3 = sm.add_constant(X)\n",
    "model3 = sm.OLS(y, x_con3)\n",
    "results3 = model3.fit()\n",
    "print(results3.summary())\n",
    "# Estima y predicho\n",
    "y_pred3 = results3.predict(x_con3)"
   ]
  },
  {
   "cell_type": "markdown",
   "metadata": {},
   "source": [
    "#### Modelo mal especificado"
   ]
  },
  {
   "cell_type": "code",
   "execution_count": null,
   "metadata": {},
   "outputs": [],
   "source": [
    "# Creamos un tercer predictor\n",
    "X_mal = np.column_stack((x2,x3)) # Armamos la matriz con los dos predictores\n",
    "#print(X)"
   ]
  },
  {
   "cell_type": "code",
   "execution_count": null,
   "metadata": {},
   "outputs": [],
   "source": [
    "x_con_mal = sm.add_constant(X_mal)\n",
    "model4 = sm.OLS(y, x_con_mal)\n",
    "results4 = model4.fit()\n",
    "print(results4.summary())\n",
    "# Estima y predicho\n",
    "y_pred4 = results4.predict(x_con_mal)"
   ]
  },
  {
   "cell_type": "code",
   "execution_count": null,
   "metadata": {},
   "outputs": [],
   "source": [
    "# Media de y?\n",
    "np.mean(y)"
   ]
  },
  {
   "cell_type": "code",
   "execution_count": null,
   "metadata": {},
   "outputs": [],
   "source": [
    "# Graficamos\n",
    "plt.scatter(y_pred, y_pred4, s=10)  # s indica el tamaño de los puntos del scatter.\n",
    "plt.xlabel('Y_hat modelo 1')\n",
    "plt.ylabel('Y_hat modelo malo')\n",
    "plt.show()"
   ]
  },
  {
   "cell_type": "markdown",
   "metadata": {},
   "source": [
    "#### MSE con datos de entrenamiento (dentro de la muestra)"
   ]
  },
  {
   "cell_type": "code",
   "execution_count": null,
   "metadata": {
    "colab": {
     "base_uri": "https://localhost:8080/"
    },
    "executionInfo": {
     "elapsed": 269,
     "status": "ok",
     "timestamp": 1712541701373,
     "user": {
      "displayName": "Victoria Oubina de Castro",
      "userId": "00295192582253170882"
     },
     "user_tz": 180
    },
    "id": "_uhAVh5Ubu5Y",
    "outputId": "55fa40a0-db20-4387-fcce-db07beaf14db"
   },
   "outputs": [],
   "source": [
    "# Usando MSE de scikit-learn\n",
    "mse1 = mean_squared_error(y, y_pred)\n",
    "print(mse1)\n",
    "\n",
    "# Usando la formula manualmente\n",
    "mse2 = np.square(np.subtract(y, y_pred)).mean()\n",
    "print(mse2)"
   ]
  },
  {
   "cell_type": "code",
   "execution_count": null,
   "metadata": {
    "colab": {
     "base_uri": "https://localhost:8080/"
    },
    "executionInfo": {
     "elapsed": 270,
     "status": "ok",
     "timestamp": 1712541711988,
     "user": {
      "displayName": "Victoria Oubina de Castro",
      "userId": "00295192582253170882"
     },
     "user_tz": 180
    },
    "id": "bTb8Tb6Bbu5Z",
    "outputId": "0bfec760-e2d3-40da-ec4f-2a72bc005f39"
   },
   "outputs": [],
   "source": [
    "# También podemos ver el RMSE y el MAE\n",
    "rmse = np.sqrt(mean_squared_error(y, y_pred))\n",
    "print(rmse)\n",
    "mae = mean_absolute_error(y, y_pred)\n",
    "print(mae)"
   ]
  },
  {
   "cell_type": "code",
   "execution_count": null,
   "metadata": {},
   "outputs": [],
   "source": [
    "# tenemos las predicciones de los 3 modelos\n",
    "y_pred = [y_pred2, y_pred3, y_pred4]\n",
    "\n",
    "# Creamos una lista para armar los resultados de error de pronóstico de Y\n",
    "resultados = []\n",
    "\n",
    "# Itera sobre los modelos\n",
    "for i, y_pred in enumerate(y_pred):\n",
    "    \n",
    "    # Calcula las medidas de error\n",
    "    mse = mean_squared_error(y, y_pred)\n",
    "    rmse = np.sqrt(mse)\n",
    "    mae = mean_absolute_error(y, y_pred)\n",
    "    \n",
    "    # Guarda los resultados\n",
    "    resultados.append({\n",
    "        'Modelo': f'Modelo {i+2}',\n",
    "        'MSE': mse,\n",
    "        'RMSE': rmse,\n",
    "        'MAE': mae\n",
    "    })\n",
    "\n",
    "# Crea un DataFrame con los resultados\n",
    "df_resultados = pd.DataFrame(resultados)\n",
    "\n",
    "# Muestra la tabla con los resultados\n",
    "print(df_resultados)"
   ]
  },
  {
   "cell_type": "markdown",
   "metadata": {},
   "source": [
    "### MSE con datos de testeo (afuera de la muestra)\n"
   ]
  },
  {
   "cell_type": "code",
   "execution_count": null,
   "metadata": {},
   "outputs": [],
   "source": [
    "# Generamos un nuevo dataset aleatorio para testear nuestor modelo estimado\n",
    "np.random.seed(0)\n",
    "x_new = np.random.rand(10)  # Array de la forma (100, 1) con nros aleatorios entre [0, 1) de una distribución uniforme\n",
    "epsilon_new = np.random.normal(0,1,10) # error no sistematico\n",
    "\n",
    "y_new = 2 + 3*x_new + epsilon_new\n",
    "print(\"x:\\n\", x_new)\n",
    "print(\"y:\\n\", y_new)\n",
    "print(\"epsilon:\\n\", epsilon_new)"
   ]
  },
  {
   "cell_type": "code",
   "execution_count": null,
   "metadata": {},
   "outputs": [],
   "source": [
    "# Nueva Predeccion las y\n",
    "x_new_con = sm.add_constant(x_new) # agregamos constante\n",
    "y_pred_new = results.predict(x_new_con)\n",
    "\n",
    "print(\"Forma de y_pred:\", y_pred_new.shape)\n",
    "print(\"Dimensiones de y:\", y_pred_new.ndim)"
   ]
  },
  {
   "cell_type": "markdown",
   "metadata": {},
   "source": [
    "Ahora si veamos la predicción afuera de la muestra\n",
    "\n"
   ]
  },
  {
   "cell_type": "code",
   "execution_count": null,
   "metadata": {},
   "outputs": [],
   "source": [
    "# Usando MSE testeo de scikit-learn\n",
    "mse_test = mean_squared_error(y_new, y_pred_new)\n",
    "print(mse_test)"
   ]
  },
  {
   "cell_type": "code",
   "execution_count": null,
   "metadata": {},
   "outputs": [],
   "source": [
    "# También podemos ver el RMSE y el MAE\n",
    "rmse_test = np.sqrt(mean_squared_error(y_new, y_pred_new))\n",
    "print(rmse_test)\n",
    "mae_test = mean_absolute_error(y_new, y_pred_new)\n",
    "print(mae_test)"
   ]
  },
  {
   "cell_type": "code",
   "execution_count": null,
   "metadata": {},
   "outputs": [],
   "source": []
  }
 ],
 "metadata": {
  "colab": {
   "provenance": []
  },
  "kernelspec": {
   "display_name": "Python [conda env:base] *",
   "language": "python",
   "name": "conda-base-py"
  },
  "language_info": {
   "codemirror_mode": {
    "name": "ipython",
    "version": 3
   },
   "file_extension": ".py",
   "mimetype": "text/x-python",
   "name": "python",
   "nbconvert_exporter": "python",
   "pygments_lexer": "ipython3",
   "version": "3.12.4"
  },
  "varInspector": {
   "cols": {
    "lenName": 16,
    "lenType": 16,
    "lenVar": 40
   },
   "kernels_config": {
    "python": {
     "delete_cmd_postfix": "",
     "delete_cmd_prefix": "del ",
     "library": "var_list.py",
     "varRefreshCmd": "print(var_dic_list())"
    },
    "r": {
     "delete_cmd_postfix": ") ",
     "delete_cmd_prefix": "rm(",
     "library": "var_list.r",
     "varRefreshCmd": "cat(var_dic_list()) "
    }
   },
   "types_to_exclude": [
    "module",
    "function",
    "builtin_function_or_method",
    "instance",
    "_Feature"
   ],
   "window_display": false
  }
 },
 "nbformat": 4,
 "nbformat_minor": 4
}
